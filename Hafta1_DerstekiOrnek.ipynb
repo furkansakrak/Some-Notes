{
  "nbformat": 4,
  "nbformat_minor": 0,
  "metadata": {
    "colab": {
      "provenance": [],
      "include_colab_link": true
    },
    "kernelspec": {
      "name": "python3",
      "display_name": "Python 3"
    },
    "language_info": {
      "name": "python"
    }
  },
  "cells": [
    {
      "cell_type": "markdown",
      "metadata": {
        "id": "view-in-github",
        "colab_type": "text"
      },
      "source": [
        "<a href=\"https://colab.research.google.com/github/furkansakrak/Some-Notes/blob/main/Hafta1_DerstekiOrnek.ipynb\" target=\"_parent\"><img src=\"https://colab.research.google.com/assets/colab-badge.svg\" alt=\"Open In Colab\"/></a>"
      ]
    },
    {
      "cell_type": "markdown",
      "source": [
        "# Lineer Regresyon"
      ],
      "metadata": {
        "id": "lGxf0GbB2Z-d"
      }
    },
    {
      "cell_type": "markdown",
      "source": [
        "## Adım 1\n",
        "Makine öğrenmesi modelinizin çalışabilmesi için giriş (X) ve çıkış (y) değerlerine ihtiyacınız var.\n",
        "Örneğin, yıllara göre maaş değişimini incelemek için örnek değerler atayalım.\n"
      ],
      "metadata": {
        "id": "uRhW_vUQ03OL"
      }
    },
    {
      "cell_type": "code",
      "execution_count": null,
      "metadata": {
        "id": "3Oc8yFqf0tRp"
      },
      "outputs": [],
      "source": [
        "# Örnek Veriler: Deneyim (X) ve Maaş (y)\n",
        "X = [1, 2, 3, 4, 5, 6, 7, 8, 9, 10]  # Giriş Değişkeni\n",
        "y = [45000, 47000, 52000, 72000, 86000, 92000, 98000, 106000, 120000, 135000]  # Çıktı (Maaş)"
      ]
    },
    {
      "cell_type": "markdown",
      "source": [
        "## Adım 2\n",
        "Doğrusal regresyon denklemini bulmak için önce x ve y ortalamalarını hesaplamalıyız."
      ],
      "metadata": {
        "id": "S_MrWGpF1HW_"
      }
    },
    {
      "cell_type": "code",
      "source": [
        "# \"...\" ile gözüken yerlere kodunuzu yazınız.\n",
        "# X ve y'nin ortalamasını hesapla\n",
        "# ipucu: sum() ve len() fonksiyonları kullanabilirsiniz.\n",
        "X_mean = ...\n",
        "y_mean = ..."
      ],
      "metadata": {
        "id": "UFPYcyhW1PQ1"
      },
      "execution_count": null,
      "outputs": []
    },
    {
      "cell_type": "markdown",
      "source": [
        "## Adım 3\n",
        "\n",
        "Eğim (m), en iyi tahmin çizgisinin açısını belirler.\n",
        "$$m = \\frac{\\sum (X_i - X_{\\text{ortalama}})(y_i - y_{\\text{ortalama}})}{\\sum (X_i - X_{\\text{ortalama}})^2}\n",
        "$$\n",
        "Eğim (m) bulmak için yukarıdaki denklemi aşağıda implemente edin."
      ],
      "metadata": {
        "id": "JMu0s3YE2RPH"
      }
    },
    {
      "cell_type": "code",
      "source": [
        "# \"...\" ile gözüken yerlere kodunuzu yazınız.\n",
        "# Eğim (m) hesaplayın\n",
        "pay = sum((...) * (...) for i in range(len(X)))\n",
        "payda = sum((...) ** 2 for i in range(len(X)))\n",
        "m = ..."
      ],
      "metadata": {
        "id": "OJuZXvF-2l_O"
      },
      "execution_count": null,
      "outputs": []
    },
    {
      "cell_type": "markdown",
      "source": [
        "## Adım 4\n",
        "Kesişim Noktasını (b) hesaplayın.\n",
        "$$\n",
        "b = y_{\\text{ortalama}} - m \\times X_{\\text{ortalama}}\n",
        "$$\n",
        "Denklemin b kısmı, tahmin çizgisinin y-eksenini kestiği noktayı temsil eder."
      ],
      "metadata": {
        "id": "JCAatV5N3Uq0"
      }
    },
    {
      "cell_type": "code",
      "source": [
        "# \"...\" ile gözüken yerlere kodunuzu yazınız.\n",
        "# Kesişim noktası (b) hesaplayın\n",
        "b = ... - (m * ...)"
      ],
      "metadata": {
        "id": "Hm99Js_y3EHV"
      },
      "execution_count": null,
      "outputs": []
    },
    {
      "cell_type": "markdown",
      "source": [
        "## Adım 5\n",
        "Model ile tahmin yapın.\n",
        "\n",
        "Artık m ve b değerlerine sahibiz! Şimdi, yeni verilerle tahmin yapabiliriz.\n",
        "\n",
        "İpucu: $y = mx + b$"
      ],
      "metadata": {
        "id": "jbxtU7qU35Lf"
      }
    },
    {
      "cell_type": "code",
      "source": [
        "# Tahmin fonksiyonu\n",
        "def tahmin(x):\n",
        "    return ...\n",
        "\n",
        "# 12 yıl deneyim için tahmin yapın\n",
        "maas_tahmini = tahmin(12)\n",
        "print(f\"12 yıl deneyim için tahmin edilen maaş: {maas_tahmini}\")"
      ],
      "metadata": {
        "id": "fDwFyhq64QxY"
      },
      "execution_count": null,
      "outputs": []
    }
  ]
}